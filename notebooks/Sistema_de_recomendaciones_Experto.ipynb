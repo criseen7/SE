{
  "nbformat": 4,
  "nbformat_minor": 0,
  "metadata": {
    "colab": {
      "provenance": []
    },
    "kernelspec": {
      "name": "python3",
      "display_name": "Python 3"
    },
    "language_info": {
      "name": "python"
    }
  },
  "cells": [
    {
      "cell_type": "markdown",
      "source": [
        "#1.\tSistema de recomendaciones experto"
      ],
      "metadata": {
        "id": "MuL4SgZqPCZK"
      }
    },
    {
      "cell_type": "markdown",
      "source": [
        "##1.1\tCaptura de datos del sensor\n",
        "Esta etapa corresponde a los valores iniciales que el sensor puede proporcionar, como:\n",
        "\n",
        "\n",
        "*   Niveles actuales en mg/Kg de Nitrógeno, Fósforo, Potasio.\n",
        "*   Porcentaje de humedad del suelo.\n",
        "*   Nivel de pH del suelo.\n",
        "\n"
      ],
      "metadata": {
        "id": "WPJtGGfxPYQg"
      }
    },
    {
      "cell_type": "markdown",
      "source": [
        "##1.2\tAnálisis de regresión lineal\n",
        "Se utiliza un modelo de regresión lineal para identificar relaciones entre las variables medidas (como niveles de nutrientes) y los objetivos (rendimiento esperado, condiciones óptimas).\n",
        "El objetivo es estimar cómo los nutrientes nitrógeno (N), fósforo (P) y potasio (K) son absorbidos por las plantas en función de los días transcurridos desde la emergencia del cultivo. Esto se hace ajustando modelos de regresión lineal, donde:\n",
        "\n",
        "*  Variables independientes (X): PH, porcentaje humedad y absorción de nutrientes (N, P, K).\n",
        "*   Variable dependiente (Y): Cantidad de fertilizante (Kg).\n",
        "\n",
        "Esto permitirá predecir los valores de absorción futura y ajustar las recomendaciones de fertilización."
      ],
      "metadata": {
        "id": "nYoHSR-5Pn3K"
      }
    },
    {
      "cell_type": "markdown",
      "source": [
        "##1.3\tPreparación del Dataset\n",
        "Los datos obtenidos son procesados, normalizados y organizados en un formato adecuado para el modelo de aprendizaje.\n",
        "Se organizan los datos históricos (entrenamiento) y los datos actuales (prueba). Representan cómo se comporta la absorción de nutrientes a lo largo del tiempo en situaciones previas.\n",
        "En la función de la regresión lineal, se combinan los datos de entrenamiento con los de prueba para formar un conjunto de datos completo.\n",
        "Esto asegura que los modelos de regresión tengan información suficiente para generalizar las predicciones, así como a su vez proporcionar recomendaciones personalizadas y estas no sean memorizadas."
      ],
      "metadata": {
        "id": "ipEBJs9BP-0K"
      }
    },
    {
      "cell_type": "markdown",
      "source": [
        "##1.4\tConstrucción y entrenamiento del modelo\n",
        "Este paso se enfoca en desarrollar un modelo de aprendizaje supervisado que utiliza los datos históricos y actuales para capturar patrones de absorción de nutrientes (N, P, K) en el tiempo y así realizar predicciones útiles para el sistema experto.\n",
        "El algoritmo elegido para este análisis es regresión lineal. Esta técnica es ideal porque permite modelar relaciones lineales entre la variable dependiente (absorción de nutrientes) y la variable independiente (días después de la emergencia del cultivo). La regresión lineal es adecuada porque: Proporciona una ecuación matemática simple y explicativa, es rápida de entrenar y evaluar y genera resultados interpretables, lo que es útil para ajustar recomendaciones agronómicas.\n",
        "Se crean tres modelos de regresión lineal, uno para cada nutriente (N, P, K). Este modelo ajusta una relación entre los días y la absorción de nitrógeno. Captura la evolución del potasio en función del tiempo. Cada modelo ajusta los parámetros β1(pendiente) y β0 (intercepto) utilizando los datos de entrenamiento."
      ],
      "metadata": {
        "id": "bDDK40dbQ4Fy"
      }
    },
    {
      "cell_type": "markdown",
      "source": [
        "##1.5\tGeneración de predicciones\n",
        "Una vez entrenado, el modelo se utiliza para realizar predicciones basadas en nuevos datos del sensor.\n",
        "Estas predicciones permiten estimar la absorción futura de nutrientes según el progreso del cultivo y la predicción es esencial para planificar y optimizar las estrategias de fertilización.\n",
        "Primero se genera un rango de días, desde 0 hasta 120, dividido en 100 puntos. Esto simula la progresión del tiempo desde la emergencia hasta la madurez del cultivo. Se usan los modelos entrenados para predecir la absorción en el rango definido. Cada modelo predice la cantidad de un nutriente en función de los días. Las predicciones son vectores que contienen valores estimados de absorción para cada día en el rango."
      ],
      "metadata": {
        "id": "jsYziBLeREHd"
      }
    },
    {
      "cell_type": "markdown",
      "source": [
        "##1.6\tAjuste de coeficientes\n",
        "Esta etapa consiste en calcular los coeficientes y el intercepto de la línea de regresión lineal. Estos valores definen la relación matemática entre los días de cultivo y la absorción de nutrientes (N, P, K). El ajuste de coeficientes ocurre durante el entrenamiento del modelo.\n",
        "El ajuste se realiza utilizando un método fit. Este método minimiza el error cuadrático medio entre los valores reales (N, P, K) y los predichos para encontrar la mejor línea que ajuste los datos.\n",
        "El coeficiente indica cuánto cambia la absorción del nutriente (N, P o K) por cada unidad de tiempo (días).\n",
        "El intercepto es el valor de la absorción de nutrientes cuando el tiempo es igual a cero.\n",
        "Por ejemplo: Si el coeficiente de modelo es 0.85, significa que la absorción de nitrógeno aumenta 0.85 mg/pl/día por cada día transcurrido. Si el intercepto es 10, significa que la absorción inicial (en el día 0) es de 10 mg/pl/día."
      ],
      "metadata": {
        "id": "dHfTqhmkRQAO"
      }
    },
    {
      "cell_type": "markdown",
      "source": [
        "##1.7\tValidación y evaluación del modelo\n",
        "Se evalúa el modelo para comprobar su precisión y confiabilidad. Esto se realiza comparando las predicciones con los datos reales no utilizados en el entrenamiento. Determina qué tan bien se ajusta el modelo a los datos históricos y cómo de precisas son las predicciones que genera.\n",
        "Se utiliza el coeficiente de determinación R^2 (R-cuadrado), que mide la proporción de la variabilidad en la variable dependiente (absorción de nutrientes) explicada por el modelo.\n",
        "Un valor de R^2 cercano a 1 indica que el modelo se ajusta muy bien a los datos.\n",
        "Un valor cercano a 0 indica que el modelo no explica bien la variación de los datos.\n",
        "###Ejemplo: Si el R^2 para nitrógeno es 0.95, significa que el 95 porciento de la variabilidad en la absorción de nitrógeno está explicada por el modelo, lo cual indica una muy buena precisión.\n",
        "Además del cálculo numérico, el sistema grafica los datos reales junto con las predicciones. Esto permite validar visualmente si la línea de regresión sigue la tendencia de los datos. Por lo que, Si los puntos reales (N, P, K) están cerca de las líneas predichas (N, P, K), el modelo es confiable.\n",
        "El ajuste de coeficientes asegura que el modelo sea lo más preciso posible al encontrar la mejor línea de regresión para los datos.\n",
        "La validación evalúa si ese ajuste realmente refleja la realidad (mediante R^2 y gráficas)."
      ],
      "metadata": {
        "id": "ATLC43NpRWVG"
      }
    },
    {
      "cell_type": "markdown",
      "source": [
        "##1.8\tVisualización de resultados y representación de la regresión\n",
        "Los resultados se grafican para representar las predicciones y los datos históricos.\n",
        "Datos históricos y valores ingresados por el usuario o el sensor se combinan para entrenar los modelos y generar predicciones futuras.\n",
        "Se generan predicciones para un rango de días (0 a 120 días) utilizando los modelos de regresión lineal. Las predicciones y los datos históricos se grafican para representar cómo los modelos ajustan las absorciones de nutrientes y se añaden títulos, etiquetas y leyendas ayudan a interpretar la visualización. Dando como resultados gráficos que muestran cómo se ajustan las curvas de regresión (predicciones) en comparación con los datos históricos que facilita la validación visual del modelo y detecta posibles anomalías en los datos."
      ],
      "metadata": {
        "id": "UOzEvuy4Rlp6"
      }
    },
    {
      "cell_type": "markdown",
      "source": [
        "##1.9Generación de recomendaciones\n",
        "A partir de las predicciones, el sistema genera recomendaciones prácticas para mejorar las condiciones del suelo o del cultivo. Se toman los valores actuales y genera recomendaciones específicas según la edad del cultivo, los niveles de NPK, la Humedad y el pH del suelo.\n",
        "Esta etapa utiliza la información proporcionada por el usuario (edad del cultivo, niveles de NPK, humedad, y pH) para generar recomendaciones específicas de fertilización. La lógica se implementa en una función y sigue un enfoque basado en reglas condicionales.\n",
        "Según la edad del cultivo:\n",
        "Las recomendaciones se adaptan a las etapas de crecimiento del cultivo:\n",
        "\n",
        "*   < 30 días: Promoción del crecimiento inicial mediante aplicaciones de nitrógeno (N) y fósforo (P).\n",
        "*   30-60 días: Apoyo al desarrollo de tubérculos con nitrógeno fraccionado y potasio (K).\n",
        "*   60-90 días: Evitar exceso de nitrógeno para prevenir problemas de calidad.\n",
        "*   >90 días: Enfoque en la maduración y calidad final de los tubérculos.\n",
        "\n",
        "Si la humedad es menor al 50 porciento, se sugiere incrementar la frecuencia de riego para optimizar la absorción de nutrientes.\n",
        "Para un pH bajo, se recomienda aplicar cal para corregir la acidez.\n",
        "Para un pH alto, se sugieren enmiendas ácidas como ácido sulfúrico.\n",
        "Las recomendaciones incluyen fertilizantes específicos y cantidades estimadas en kg/ha.\n",
        "Por lo que la recomendación es una lista detallada de acciones recomendadas para optimizar la fertilización y el manejo del cultivo según las condiciones actuales."
      ],
      "metadata": {
        "id": "g386xgdnRuwV"
      }
    },
    {
      "cell_type": "code",
      "source": [
        "import numpy as np\n",
        "import pandas as pd\n",
        "import matplotlib.pyplot as plt\n",
        "from sklearn.linear_model import LinearRegression\n",
        "from sklearn.metrics import r2_score\n",
        "\n",
        "def RegresionLineal():\n",
        "    # Datos de entrenamiento\n",
        "    dias_entrenamiento = [37.5, 52.5, 67.5, 82.5, 97.5, 112.5]  # Promedio de intervalos de días\n",
        "    n_abs_entrenamiento = [50, 90, 115, 40, 20, 0]  # Absorción de N (mg/pl/día)\n",
        "    k_abs_entrenamiento = [60, 140, 140, 60, 20, 0]  # Absorción de K (mg/pl/día)\n",
        "    p_abs_entrenamiento = [15, 25, 28, 13, 7, 0]  # Absorción de P (mg/pl/día)\n",
        "\n",
        "    # Datos de prueba (valores actuales y los ingresados por el usuario)\n",
        "    dias_prueba = [30, 60, 90, 110, edad_actual]  # Días actuales más los del usuario\n",
        "    n_abs_prueba = [70, 100, 30, 10, npk_actual['N']]  # N actuales más los del usuario\n",
        "    k_abs_prueba = [80, 120, 50, 15, npk_actual['K']]  # K actuales más los del usuario\n",
        "    p_abs_prueba = [20, 25, 10, 5, npk_actual['P']]  # P actuales más los del usuario\n",
        "    # Combinar datos de entrenamiento y prueba\n",
        "    dias_total = np.array(dias_entrenamiento + dias_prueba).reshape(-1, 1)\n",
        "    n_total = np.array(n_abs_entrenamiento + n_abs_prueba)\n",
        "    k_total = np.array(k_abs_entrenamiento + k_abs_prueba)\n",
        "    p_total = np.array(p_abs_entrenamiento + p_abs_prueba)\n",
        "\n",
        "    # Ajustar modelos de regresión lineal\n",
        "    model_n = LinearRegression().fit(dias_total, n_total)\n",
        "    model_k = LinearRegression().fit(dias_total, k_total)\n",
        "    model_p = LinearRegression().fit(dias_total, p_total)\n",
        "\n",
        "    # Predicciones en el rango completo\n",
        "    dias_pred = np.linspace(0, 120, 100).reshape(-1, 1)\n",
        "    n_pred = model_n.predict(dias_pred)\n",
        "    k_pred = model_k.predict(dias_pred)\n",
        "    p_pred = model_p.predict(dias_pred)\n",
        "\n",
        "    # Métricas R²\n",
        "    r2_n = r2_score(n_total, model_n.predict(dias_total))\n",
        "    r2_k = r2_score(k_total, model_k.predict(dias_total))\n",
        "    r2_p = r2_score(p_total, model_p.predict(dias_total))\n",
        "\n",
        "    # Resultados\n",
        "    print(f\"N: Coeficiente = {model_n.coef_[0]:.2f}, Intercepto = {model_n.intercept_:.2f}, R² = {r2_n:.3f}\")\n",
        "    print(f\"K: Coeficiente = {model_k.coef_[0]:.2f}, Intercepto = {model_k.intercept_:.2f}, R² = {r2_k:.3f}\")\n",
        "    print(f\"P: Coeficiente = {model_p.coef_[0]:.2f}, Intercepto = {model_p.intercept_:.2f}, R² = {r2_p:.3f}\")\n",
        "\n",
        "    # Gráfico combinado\n",
        "    plt.figure(figsize=(10, 6))\n",
        "    plt.plot(dias_pred, n_pred, label=\"N (Regresión)\", color='yellow')\n",
        "    plt.plot(dias_pred, k_pred, label=\"K (Regresión)\", color='blue')\n",
        "    plt.plot(dias_pred, p_pred, label=\"P (Regresión)\", color='green')\n",
        "\n",
        "    plt.scatter(dias_total, n_total, label=\"N (Datos)\", color='orange', marker='o')\n",
        "    plt.scatter(dias_total, k_total, label=\"K (Datos)\", color='purple', marker='x')\n",
        "    plt.scatter(dias_total, p_total, label=\"P (Datos)\", color='lime', marker='s')\n",
        "\n",
        "    plt.title(\"Regresión Lineal: Absorción de Nutrientes en Cultivo de Papa\")\n",
        "    plt.xlabel(\"Días después de Emergencia\")\n",
        "    plt.ylabel(\"Absorción (mg/pl/día)\")\n",
        "    plt.legend()\n",
        "    plt.grid()\n",
        "    plt.show()\n",
        "\n",
        "# Función de recomendaciones permanece igual\n",
        "def recomendaciones_fertilizacion(dias, npk, humedad, ph):\n",
        "    # Recomendaciones basadas en la edad del cultivo y condiciones actuales\n",
        "    if dias < 30:\n",
        "        if npk['N'] < 80:\n",
        "            print(\"Recomendación: Aplicar nitrógeno en bandas o lateralmente para estimular el crecimiento temprano.\")\n",
        "            print(\"Fertilizante recomendado: 20-0-0 (Agua amoníaco) o 32-0-0 (Urea y nitrato de amonio).\")\n",
        "            print(\"Cantidad recomendada: 50-60 kg/ha.\")\n",
        "        if npk['P'] < 20:\n",
        "            print(\"Recomendación: Aplicar fósforo para favorecer el desarrollo temprano y la formación de tubérculos.\")\n",
        "            print(\"Fertilizante recomendado: 8-24-0 (Ortofosfato de amonio) o 9-30-0 (Ortofosfato de amonio).\")\n",
        "            print(\"Cantidad recomendada: 30-40 kg/ha.\")\n",
        "    elif 30 <= dias < 60:\n",
        "        if npk['N'] < 120:\n",
        "            print(\"Recomendación: Realizar aplicaciones fraccionadas de nitrógeno y considerar la inyección por riego.\")\n",
        "            print(\"Fertilizante recomendado: 28-0-0 (Urea y nitrato de amonio).\")\n",
        "            print(\"Cantidad recomendada: 40-50 kg/ha.\")\n",
        "        if npk['K'] < 100:\n",
        "            print(\"Recomendación: Asegurarse de que haya suficiente potasio para el desarrollo adecuado de los tubérculos.\")\n",
        "            print(\"Fertilizante recomendado: 0-0-30 (Carbonato de potasio) o 8-8-8 (Mezcla de amoniaco).\")\n",
        "            print(\"Cantidad recomendada: 30-40 kg/ha.\")\n",
        "    elif 60 <= dias < 90:\n",
        "        if npk['N'] > 150:\n",
        "            print(\"Recomendación: Evitar dosis excesivas de nitrógeno para prevenir crecimiento vegetativo excesivo.\")\n",
        "            print(\"Fertilizante recomendado: 20-0-0 (Nitrato de amonio) o 17-0-0 (Nitrato de calcio y amonio).\")\n",
        "            print(\"Cantidad recomendada: 30-40 kg/ha.\")\n",
        "        if humedad < 60:\n",
        "            print(\"Recomendación: Asegurar una humedad adecuada en el suelo para evitar estrés hídrico.\")\n",
        "    else:\n",
        "        if npk['P'] < 40:\n",
        "            print(\"Recomendación: Aplicar fósforo adicional para asegurar una adecuada maduración.\")\n",
        "            print(\"Fertilizante recomendado: 10-34-0 (Ortofosfato y polifosfatos de amonio).\")\n",
        "            print(\"Cantidad recomendada: 20-30 kg/ha.\")\n",
        "        if ph > 7:\n",
        "            print(\"Recomendación: Considerar la aplicación de ácido sulfúrico para corregir el pH del suelo.\")\n",
        "\n",
        "    if ph < 5.5:\n",
        "        print(\"Recomendación: El pH del suelo está bajo. Considerar la aplicación de cal.\")\n",
        "    elif ph > 7.5:\n",
        "        print(\"Recomendación: El pH está alto. Considerar la aplicación de enmiendas ácidas como ácido sulfúrico.\")\n",
        "    if humedad < 50:\n",
        "        print(\"Recomendación: Aumentar la frecuencia de riego para asegurar una buena absorción de nutrientes.\")\n",
        "\n",
        "# Ejemplo de uso\n",
        "npk_actual = {'N': 12, 'K': 17, 'P': 35}\n",
        "humedad_actual = 13.60\n",
        "ph_actual = 3\n",
        "edad_actual = 0\n",
        "recomendaciones_fertilizacion(edad_actual, npk_actual, humedad_actual, ph_actual)\n"
      ],
      "metadata": {
        "id": "N-FvCWGgSuuj"
      },
      "execution_count": null,
      "outputs": []
    }
  ]
}